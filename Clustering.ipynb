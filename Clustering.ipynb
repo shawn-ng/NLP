{
 "cells": [
  {
   "cell_type": "code",
   "execution_count": 1,
   "metadata": {},
   "outputs": [
    {
     "name": "stdout",
     "output_type": "stream",
     "text": [
      "\u001b[33mDEPRECATION: Configuring installation scheme with distutils config files is deprecated and will no longer work in the near future. If you are using a Homebrew or Linuxbrew Python, please see discussion at https://github.com/Homebrew/homebrew-core/issues/76621\u001b[0m\u001b[33m\n",
      "\u001b[0mRequirement already satisfied: umap-learn in /opt/homebrew/lib/python3.9/site-packages (0.5.3)\n",
      "Requirement already satisfied: numpy>=1.17 in /opt/homebrew/lib/python3.9/site-packages (from umap-learn) (1.22.2)\n",
      "Requirement already satisfied: numba>=0.49 in /opt/homebrew/lib/python3.9/site-packages (from umap-learn) (0.56.4)\n",
      "Requirement already satisfied: scipy>=1.0 in /opt/homebrew/lib/python3.9/site-packages (from umap-learn) (1.8.0)\n",
      "Requirement already satisfied: pynndescent>=0.5 in /opt/homebrew/lib/python3.9/site-packages (from umap-learn) (0.5.8)\n",
      "Requirement already satisfied: tqdm in /opt/homebrew/lib/python3.9/site-packages (from umap-learn) (4.64.0)\n",
      "Requirement already satisfied: scikit-learn>=0.22 in /opt/homebrew/lib/python3.9/site-packages (from umap-learn) (1.1.3)\n",
      "Requirement already satisfied: setuptools in /opt/homebrew/lib/python3.9/site-packages (from numba>=0.49->umap-learn) (60.10.0)\n",
      "Requirement already satisfied: llvmlite<0.40,>=0.39.0dev0 in /opt/homebrew/lib/python3.9/site-packages (from numba>=0.49->umap-learn) (0.39.1)\n",
      "Requirement already satisfied: joblib>=0.11 in /opt/homebrew/lib/python3.9/site-packages (from pynndescent>=0.5->umap-learn) (1.2.0)\n",
      "Requirement already satisfied: threadpoolctl>=2.0.0 in /opt/homebrew/lib/python3.9/site-packages (from scikit-learn>=0.22->umap-learn) (3.1.0)\n",
      "\u001b[33mDEPRECATION: Configuring installation scheme with distutils config files is deprecated and will no longer work in the near future. If you are using a Homebrew or Linuxbrew Python, please see discussion at https://github.com/Homebrew/homebrew-core/issues/76621\u001b[0m\u001b[33m\n",
      "\u001b[0m\u001b[33mWARNING: You are using pip version 22.0.4; however, version 22.3.1 is available.\n",
      "You should consider upgrading via the '/opt/homebrew/opt/python@3.9/bin/python3.9 -m pip install --upgrade pip' command.\u001b[0m\u001b[33m\n",
      "\u001b[0m"
     ]
    }
   ],
   "source": [
    "!pip install umap-learn"
   ]
  },
  {
   "cell_type": "code",
   "execution_count": 2,
   "metadata": {},
   "outputs": [],
   "source": [
    "from sentence_transformers import SentenceTransformer\n",
    "import umap \n",
    "\n",
    "import pandas as pd \n",
    "import re"
   ]
  },
  {
   "cell_type": "code",
   "execution_count": 6,
   "metadata": {},
   "outputs": [],
   "source": [
    "df = pd.read_csv(\"archive/TheOffice_transcripts.csv\", on_bad_lines= 'skip')\n",
    "\n",
    "df.columns = [\"sentence\"]"
   ]
  },
  {
   "cell_type": "code",
   "execution_count": 7,
   "metadata": {},
   "outputs": [],
   "source": [
    "for i in range(len(df)):\n",
    "\n",
    "    string = str(df[\"sentence\"][i])\n",
    "    seperator = ';'\n",
    "    df[\"sentence\"][i] = string.split(seperator, 1)[0]\n",
    "\n",
    "    string2 = str(df[\"sentence\"][i])\n",
    "    seperator = ':'\n",
    "    "
   ]
  },
  {
   "cell_type": "code",
   "execution_count": 8,
   "metadata": {},
   "outputs": [
    {
     "data": {
      "text/html": [
       "<div>\n",
       "<style scoped>\n",
       "    .dataframe tbody tr th:only-of-type {\n",
       "        vertical-align: middle;\n",
       "    }\n",
       "\n",
       "    .dataframe tbody tr th {\n",
       "        vertical-align: top;\n",
       "    }\n",
       "\n",
       "    .dataframe thead th {\n",
       "        text-align: right;\n",
       "    }\n",
       "</style>\n",
       "<table border=\"1\" class=\"dataframe\">\n",
       "  <thead>\n",
       "    <tr style=\"text-align: right;\">\n",
       "      <th></th>\n",
       "      <th>sentence</th>\n",
       "    </tr>\n",
       "  </thead>\n",
       "  <tbody>\n",
       "    <tr>\n",
       "      <th>0</th>\n",
       "      <td>Michael: All right Jim. Your quarterlies look ...</td>\n",
       "    </tr>\n",
       "    <tr>\n",
       "      <th>1</th>\n",
       "      <td>Pam: Well. I don't know.</td>\n",
       "    </tr>\n",
       "    <tr>\n",
       "      <th>2</th>\n",
       "      <td>Pam: What?</td>\n",
       "    </tr>\n",
       "    <tr>\n",
       "      <th>3</th>\n",
       "      <td>Michael: Any messages?</td>\n",
       "    </tr>\n",
       "    <tr>\n",
       "      <th>4</th>\n",
       "      <td>Pam: You haven't told me.</td>\n",
       "    </tr>\n",
       "    <tr>\n",
       "      <th>...</th>\n",
       "      <td>...</td>\n",
       "    </tr>\n",
       "    <tr>\n",
       "      <th>34028</th>\n",
       "      <td>I'm going to miss this incredible family here ...</td>\n",
       "    </tr>\n",
       "    <tr>\n",
       "      <th>34029</th>\n",
       "      <td>This has been my other family for nine years. ...</td>\n",
       "    </tr>\n",
       "    <tr>\n",
       "      <th>34030</th>\n",
       "      <td>And it's a tough thing.</td>\n",
       "    </tr>\n",
       "    <tr>\n",
       "      <th>34031</th>\n",
       "      <td>It's just been everything to me.</td>\n",
       "    </tr>\n",
       "    <tr>\n",
       "      <th>34032</th>\n",
       "      <td>The greatest honor will be anybody making any ...</td>\n",
       "    </tr>\n",
       "  </tbody>\n",
       "</table>\n",
       "<p>34033 rows × 1 columns</p>\n",
       "</div>"
      ],
      "text/plain": [
       "                                                sentence\n",
       "0      Michael: All right Jim. Your quarterlies look ...\n",
       "1                               Pam: Well. I don't know.\n",
       "2                                             Pam: What?\n",
       "3                                 Michael: Any messages?\n",
       "4                              Pam: You haven't told me.\n",
       "...                                                  ...\n",
       "34028  I'm going to miss this incredible family here ...\n",
       "34029  This has been my other family for nine years. ...\n",
       "34030                            And it's a tough thing.\n",
       "34031                   It's just been everything to me.\n",
       "34032  The greatest honor will be anybody making any ...\n",
       "\n",
       "[34033 rows x 1 columns]"
      ]
     },
     "execution_count": 8,
     "metadata": {},
     "output_type": "execute_result"
    }
   ],
   "source": [
    "df"
   ]
  },
  {
   "cell_type": "code",
   "execution_count": null,
   "metadata": {},
   "outputs": [],
   "source": []
  }
 ],
 "metadata": {
  "kernelspec": {
   "display_name": "Python 3.9.12 64-bit",
   "language": "python",
   "name": "python3"
  },
  "language_info": {
   "codemirror_mode": {
    "name": "ipython",
    "version": 3
   },
   "file_extension": ".py",
   "mimetype": "text/x-python",
   "name": "python",
   "nbconvert_exporter": "python",
   "pygments_lexer": "ipython3",
   "version": "3.9.12"
  },
  "orig_nbformat": 4,
  "vscode": {
   "interpreter": {
    "hash": "b0fa6594d8f4cbf19f97940f81e996739fb7646882a419484c72d19e05852a7e"
   }
  }
 },
 "nbformat": 4,
 "nbformat_minor": 2
}
